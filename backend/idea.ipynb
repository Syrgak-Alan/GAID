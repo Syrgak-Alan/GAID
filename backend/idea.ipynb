{
 "cells": [
  {
   "cell_type": "code",
   "execution_count": 4,
   "id": "70223fe1",
   "metadata": {},
   "outputs": [],
   "source": [
    "import json\n",
    "from google.genai import types"
   ]
  },
  {
   "cell_type": "code",
   "execution_count": 5,
   "id": "0cb8610e",
   "metadata": {},
   "outputs": [],
   "source": [
    "place = {\n",
    "    \"address\": \"Am Olympiapark 1, 80809 München, Germany\",\n",
    "    \"distance_m\": 220.1,\n",
    "    \"latitude\": 48.1771981,\n",
    "    \"longitude\": 11.5562963,\n",
    "    \"name\": \"BMW Welt\",\n",
    "}\n",
    "\n",
    "profile = {\n",
    "    \"interests\": [\"engineering_cars\", \"history\"],  # highest priority first\n",
    "    \"mobility\": \"standard\",                         # \"standard\" | \"limited\"\n",
    "    \"locale\": \"en-US\",                              # \"en-US\" | \"de-DE\"\n",
    "}"
   ]
  },
  {
   "cell_type": "code",
   "execution_count": 6,
   "id": "e7211e5d",
   "metadata": {},
   "outputs": [
    {
     "name": "stdout",
     "output_type": "stream",
     "text": [
      "parts=[Part(\n",
      "  text='{\"place\": {\"address\": \"Am Olympiapark 1, 80809 München, Germany\", \"distance_m\": 220.1, \"latitude\": 48.1771981, \"longitude\": 11.5562963, \"name\": \"BMW Welt\"}, \"profile\": {\"interests\": [\"engineering_cars\", \"history\"], \"mobility\": \"standard\", \"locale\": \"en-US\"}}'\n",
      ")] role='user'\n"
     ]
    }
   ],
   "source": [
    "payload = json.dumps({\"place\": place, \"profile\": profile}, ensure_ascii=False)\n",
    "content = types.Content(role=\"user\", parts=[types.Part(text=payload)])\n",
    "print(content)"
   ]
  }
 ],
 "metadata": {
  "kernelspec": {
   "display_name": "api_test",
   "language": "python",
   "name": "python3"
  },
  "language_info": {
   "codemirror_mode": {
    "name": "ipython",
    "version": 3
   },
   "file_extension": ".py",
   "mimetype": "text/x-python",
   "name": "python",
   "nbconvert_exporter": "python",
   "pygments_lexer": "ipython3",
   "version": "3.11.13"
  }
 },
 "nbformat": 4,
 "nbformat_minor": 5
}
